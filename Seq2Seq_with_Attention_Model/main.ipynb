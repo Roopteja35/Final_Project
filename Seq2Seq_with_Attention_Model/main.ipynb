{
 "cells": [
  {
   "cell_type": "code",
   "execution_count": null,
   "id": "bddb5241",
   "metadata": {},
   "outputs": [],
   "source": [
    "Data Generation (Synthetic Dataset)"
   ]
  },
  {
   "cell_type": "code",
   "execution_count": 2,
   "id": "43c22715",
   "metadata": {},
   "outputs": [],
   "source": [
    "import random\n",
    "import torch\n",
    "\n",
    "# Parameters\n",
    "dataset_size = 10000\n",
    "seq_len = 10\n",
    "vocab_size = 20\n",
    "\n",
    "def generate_dataset(size, length, vocab):\n",
    "    data = []\n",
    "    for _ in range(size):\n",
    "        seq = [random.randint(1, vocab - 1) for _ in range(length)]\n",
    "        data.append((seq, list(reversed(seq))))\n",
    "    return data\n",
    "\n",
    "data = generate_dataset(dataset_size, seq_len, vocab_size)\n",
    "\n",
    "# Create token-to-index and index-to-token mappings\n",
    "token2idx = {str(i): i for i in range(vocab_size)}\n",
    "idx2token = {i: str(i) for i in range(vocab_size)}\n"
   ]
  },
  {
   "cell_type": "markdown",
   "id": "b86c06f8",
   "metadata": {},
   "source": [
    "Dataset Preprocessing"
   ]
  },
  {
   "cell_type": "code",
   "execution_count": 3,
   "id": "608584e8",
   "metadata": {},
   "outputs": [],
   "source": [
    "from torch.utils.data import Dataset, DataLoader\n",
    "\n",
    "class SeqDataset(Dataset):\n",
    "    def __init__(self, data):\n",
    "        self.data = data\n",
    "\n",
    "    def __len__(self):\n",
    "        return len(self.data)\n",
    "\n",
    "    def __getitem__(self, idx):\n",
    "        src, tgt = self.data[idx]\n",
    "        return torch.tensor(src), torch.tensor(tgt)\n",
    "\n",
    "dataloader = DataLoader(SeqDataset(data), batch_size=32, shuffle=True)"
   ]
  },
  {
   "cell_type": "markdown",
   "id": "6ca850b8",
   "metadata": {},
   "source": [
    "Define Encoder, Decoder, and Attention Modules"
   ]
  },
  {
   "cell_type": "code",
   "execution_count": 4,
   "id": "0d201035",
   "metadata": {},
   "outputs": [],
   "source": [
    "import torch.nn as nn\n",
    "\n",
    "class Encoder(nn.Module):\n",
    "    def __init__(self, input_dim, hidden_dim):\n",
    "        super().__init__()\n",
    "        self.embedding = nn.Embedding(input_dim, hidden_dim)\n",
    "        self.rnn = nn.GRU(hidden_dim, hidden_dim, batch_first=True)\n",
    "\n",
    "    def forward(self, src):\n",
    "        embedded = self.embedding(src)\n",
    "        outputs, hidden = self.rnn(embedded)\n",
    "        return outputs, hidden\n",
    "\n",
    "class Attention(nn.Module):\n",
    "    def __init__(self, hidden_dim):\n",
    "        super().__init__()\n",
    "        self.attn = nn.Linear(hidden_dim * 2, 1)\n",
    "\n",
    "    def forward(self, hidden, encoder_outputs):\n",
    "        batch_size, seq_len, _ = encoder_outputs.size()\n",
    "        hidden = hidden.unsqueeze(1).repeat(1, seq_len, 1)\n",
    "        energy = self.attn(torch.cat((hidden, encoder_outputs), dim=2)).squeeze(2)\n",
    "        return torch.softmax(energy, dim=1)\n",
    "\n",
    "class Decoder(nn.Module):\n",
    "    def __init__(self, output_dim, hidden_dim):\n",
    "        super().__init__()\n",
    "        self.embedding = nn.Embedding(output_dim, hidden_dim)\n",
    "        self.rnn = nn.GRU(hidden_dim + hidden_dim, hidden_dim, batch_first=True)\n",
    "        self.fc_out = nn.Linear(hidden_dim * 2, output_dim)\n",
    "        self.attention = Attention(hidden_dim)\n",
    "\n",
    "    def forward(self, input, hidden, encoder_outputs):\n",
    "        input = input.unsqueeze(1)\n",
    "        embedded = self.embedding(input)\n",
    "        attn_weights = self.attention(hidden[-1], encoder_outputs)\n",
    "        context = torch.bmm(attn_weights.unsqueeze(1), encoder_outputs)\n",
    "        rnn_input = torch.cat((embedded, context), dim=2)\n",
    "        output, hidden = self.rnn(rnn_input, hidden)\n",
    "        output = self.fc_out(torch.cat((output.squeeze(1), context.squeeze(1)), dim=1))\n",
    "        return output, hidden"
   ]
  },
  {
   "cell_type": "markdown",
   "id": "07c451ca",
   "metadata": {},
   "source": [
    "Define Seq2Seq Wrapper"
   ]
  },
  {
   "cell_type": "code",
   "execution_count": 5,
   "id": "f8f00bb2",
   "metadata": {},
   "outputs": [],
   "source": [
    "class Seq2Seq(nn.Module):\n",
    "    def __init__(self, encoder, decoder):\n",
    "        super().__init__()\n",
    "        self.encoder = encoder\n",
    "        self.decoder = decoder\n",
    "\n",
    "    def forward(self, src, tgt):\n",
    "        encoder_outputs, hidden = self.encoder(src)\n",
    "        input = tgt[:, 0]\n",
    "        outputs = []\n",
    "        for t in range(1, tgt.size(1)):\n",
    "            output, hidden = self.decoder(input, hidden, encoder_outputs)\n",
    "            outputs.append(output.unsqueeze(1))\n",
    "            input = tgt[:, t]\n",
    "        return torch.cat(outputs, dim=1)"
   ]
  },
  {
   "cell_type": "markdown",
   "id": "e31bc0dd",
   "metadata": {},
   "source": [
    "Training the Model"
   ]
  },
  {
   "cell_type": "code",
   "execution_count": 6,
   "id": "c87457f3",
   "metadata": {},
   "outputs": [
    {
     "name": "stdout",
     "output_type": "stream",
     "text": [
      "Epoch 1, Loss: 1.4711\n",
      "Epoch 2, Loss: 0.7883\n",
      "Epoch 3, Loss: 0.6250\n",
      "Epoch 4, Loss: 0.5305\n",
      "Epoch 5, Loss: 0.4639\n",
      "Epoch 6, Loss: 0.4036\n",
      "Epoch 7, Loss: 0.3627\n",
      "Epoch 8, Loss: 0.3228\n",
      "Epoch 9, Loss: 0.3008\n",
      "Epoch 10, Loss: 0.2690\n"
     ]
    }
   ],
   "source": [
    "import torch.optim as optim\n",
    "\n",
    "device = torch.device(\"cuda\" if torch.cuda.is_available() else \"cpu\")\n",
    "\n",
    "encoder = Encoder(vocab_size, 128).to(device)\n",
    "decoder = Decoder(vocab_size, 128).to(device)\n",
    "model = Seq2Seq(encoder, decoder).to(device)\n",
    "\n",
    "optimizer = optim.Adam(model.parameters())\n",
    "criterion = nn.CrossEntropyLoss()\n",
    "\n",
    "losses = []\n",
    "\n",
    "for epoch in range(10):\n",
    "    total_loss = 0\n",
    "    for src, tgt in dataloader:\n",
    "        src, tgt = src.to(device), tgt.to(device)\n",
    "        optimizer.zero_grad()\n",
    "        output = model(src, tgt)\n",
    "        output = output.view(-1, vocab_size)\n",
    "        tgt = tgt[:, 1:].contiguous().view(-1)\n",
    "        loss = criterion(output, tgt)\n",
    "        loss.backward()\n",
    "        optimizer.step()\n",
    "        total_loss += loss.item()\n",
    "    losses.append(total_loss / len(dataloader))\n",
    "    print(f\"Epoch {epoch + 1}, Loss: {losses[-1]:.4f}\")"
   ]
  },
  {
   "cell_type": "markdown",
   "id": "de7b70d7",
   "metadata": {},
   "source": [
    "Accuracy Evaluation"
   ]
  },
  {
   "cell_type": "code",
   "execution_count": 7,
   "id": "7e7eb3b5",
   "metadata": {},
   "outputs": [
    {
     "name": "stdout",
     "output_type": "stream",
     "text": [
      "Accuracy: 91.16%\n"
     ]
    }
   ],
   "source": [
    "def evaluate_accuracy(model, dataloader):\n",
    "    model.eval()\n",
    "    correct = total = 0\n",
    "    with torch.no_grad():\n",
    "        for src, tgt in dataloader:\n",
    "            src, tgt = src.to(device), tgt.to(device)\n",
    "            output = model(src, tgt)\n",
    "            preds = output.argmax(dim=-1)\n",
    "            correct += (preds == tgt[:, 1:]).sum().item()\n",
    "            total += torch.numel(tgt[:, 1:])\n",
    "    model.train()\n",
    "    return correct / total\n",
    "\n",
    "accuracy = evaluate_accuracy(model, dataloader)\n",
    "print(f\"Accuracy: {accuracy * 100:.2f}%\")"
   ]
  },
  {
   "cell_type": "markdown",
   "id": "7c182c98",
   "metadata": {},
   "source": [
    "Plotting Loss Curve"
   ]
  },
  {
   "cell_type": "code",
   "execution_count": 8,
   "id": "6fbe51c9",
   "metadata": {},
   "outputs": [
    {
     "data": {
      "image/png": "[encoded data removed]",
      "text/plain": [
       "<Figure size 640x480 with 1 Axes>"
      ]
     },
     "metadata": {},
     "output_type": "display_data"
    }
   ],
   "source": [
    "import matplotlib.pyplot as plt\n",
    "\n",
    "plt.plot(losses)\n",
    "plt.title(\"Training Loss\")\n",
    "plt.xlabel(\"Epoch\")\n",
    "plt.ylabel(\"Loss\")\n",
    "plt.grid(True)\n",
    "plt.show()"
   ]
  },
  {
   "cell_type": "code",
   "execution_count": 10,
   "id": "93d04f56",
   "metadata": {},
   "outputs": [
    {
     "name": "stdout",
     "output_type": "stream",
     "text": [
      " Input Sequence (Source): [13, 2, 13, 9, 18, 1, 5, 3, 11, 3]\n",
      " Target Sequence (Reversed): [3, 11, 3, 5, 1, 18, 9, 13, 2, 13]\n"
     ]
    }
   ],
   "source": [
    "import random\n",
    "import torch\n",
    "\n",
    "# Configuration\n",
    "seq_len = 10\n",
    "vocab_size = 20  # 0 is reserved for padding if used\n",
    "\n",
    "# Generate a random input sequence\n",
    "src_seq = [random.randint(1, vocab_size - 1) for _ in range(seq_len)]\n",
    "\n",
    "# Generate the corresponding reversed target sequence\n",
    "tgt_seq = src_seq[::-1]\n",
    "\n",
    "# Convert to tensors (optional - if you want it in PyTorch format)\n",
    "src_tensor = torch.tensor(src_seq, dtype=torch.long)\n",
    "tgt_tensor = torch.tensor(tgt_seq, dtype=torch.long)\n",
    "\n",
    "# Display\n",
    "print(\" Input Sequence (Source):\", src_seq)\n",
    "print(\" Target Sequence (Reversed):\", tgt_seq)\n"
   ]
  }
 ],
 "metadata": {
  "kernelspec": {
   "display_name": "Python 3",
   "language": "python",
   "name": "python3"
  },
  "language_info": {
   "codemirror_mode": {
    "name": "ipython",
    "version": 3
   },
   "file_extension": ".py",
   "mimetype": "text/x-python",
   "name": "python",
   "nbconvert_exporter": "python",
   "pygments_lexer": "ipython3",
   "version": "3.12.6"
  }
 },
 "nbformat": 4,
 "nbformat_minor": 5
}
