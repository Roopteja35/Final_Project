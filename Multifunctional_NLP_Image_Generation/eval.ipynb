{
 "cells": [
  {
   "cell_type": "code",
   "execution_count": 5,
   "id": "73de702a",
   "metadata": {},
   "outputs": [
    {
     "name": "stdout",
     "output_type": "stream",
     "text": [
      "\n",
      "Sentiment Analysis Evaluation: {'Accuracy': 0.75, 'Precision': np.float64(1.0), 'Recall': np.float64(0.5), 'F1 Score': np.float64(0.6666666666666666)}\n",
      "\n",
      "Question Answering Evaluation: {'Accuracy': 0.75, 'Precision': np.float64(1.0), 'Recall': np.float64(0.6666666666666666), 'F1 Score': np.float64(0.8)}\n"
     ]
    }
   ],
   "source": [
    "from sklearn.metrics import accuracy_score, precision_score, recall_score, f1_score\n",
    "\n",
    "def evaluate_classification(y_true, y_pred, pos_label):\n",
    "    return {\n",
    "        \"Accuracy\": accuracy_score(y_true, y_pred),\n",
    "        \"Precision\": precision_score(y_true, y_pred, pos_label=pos_label),\n",
    "        \"Recall\": recall_score(y_true, y_pred, pos_label=pos_label),\n",
    "        \"F1 Score\": f1_score(y_true, y_pred, pos_label=pos_label)\n",
    "    }\n",
    "\n",
    "# Simulated Sentiment Evaluation\n",
    "y_true_sent = ['POSITIVE', 'NEGATIVE', 'POSITIVE', 'NEGATIVE']\n",
    "y_pred_sent = ['POSITIVE', 'NEGATIVE', 'NEGATIVE', 'NEGATIVE']\n",
    "print(\"\\nSentiment Analysis Evaluation:\", evaluate_classification(y_true_sent, y_pred_sent, pos_label='POSITIVE'))\n",
    "\n",
    "# Simulated QA Evaluation\n",
    "y_true_qa = ['yes', 'no', 'yes', 'yes']\n",
    "y_pred_qa = ['yes', 'no', 'no', 'yes']\n",
    "print(\"\\nQuestion Answering Evaluation:\", evaluate_classification(y_true_qa, y_pred_qa, pos_label='yes'))\n"
   ]
  }
 ],
 "metadata": {
  "kernelspec": {
   "display_name": "Python 3",
   "language": "python",
   "name": "python3"
  },
  "language_info": {
   "codemirror_mode": {
    "name": "ipython",
    "version": 3
   },
   "file_extension": ".py",
   "mimetype": "text/x-python",
   "name": "python",
   "nbconvert_exporter": "python",
   "pygments_lexer": "ipython3",
   "version": "3.12.6"
  }
 },
 "nbformat": 4,
 "nbformat_minor": 5
}
